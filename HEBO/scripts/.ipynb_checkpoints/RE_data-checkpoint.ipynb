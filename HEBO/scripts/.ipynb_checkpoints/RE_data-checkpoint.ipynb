{
 "cells": [
  {
   "cell_type": "code",
   "execution_count": 6,
   "id": "00ea3219-26d4-41b7-a62b-8c99093545b5",
   "metadata": {},
   "outputs": [
    {
     "ename": "ModuleNotFoundError",
     "evalue": "No module named 'HEBO'",
     "output_type": "error",
     "traceback": [
      "\u001b[1;31m---------------------------------------------------------------------------\u001b[0m",
      "\u001b[1;31mModuleNotFoundError\u001b[0m                       Traceback (most recent call last)",
      "Cell \u001b[1;32mIn[6], line 1\u001b[0m\n\u001b[1;32m----> 1\u001b[0m \u001b[38;5;28;01mfrom\u001b[39;00m \u001b[38;5;21;01mBO_methods\u001b[39;00m \u001b[38;5;28;01mimport\u001b[39;00m CustomTask\n\u001b[0;32m      2\u001b[0m \u001b[38;5;28;01mfrom\u001b[39;00m \u001b[38;5;21;01mconfig_NN_methods\u001b[39;00m \u001b[38;5;28;01mimport\u001b[39;00m flex_NN, activation_functions, loss_functions\n\u001b[0;32m      3\u001b[0m \u001b[38;5;28;01mfrom\u001b[39;00m \u001b[38;5;21;01mBO_pipeline\u001b[39;00m \u001b[38;5;28;01mimport\u001b[39;00m WeightAndBiasOptimizer\n",
      "File \u001b[1;32m~\\Desktop\\python_proj\\BO_RandomDecomposition_NeuralNetworks\\HEBO\\scripts\\BO_methods.py:8\u001b[0m\n\u001b[0;32m      5\u001b[0m \u001b[38;5;28;01mfrom\u001b[39;00m \u001b[38;5;21;01mtyping\u001b[39;00m \u001b[38;5;28;01mimport\u001b[39;00m List, Tuple, Any, Dict\n\u001b[0;32m      6\u001b[0m \u001b[38;5;66;03m#from HEBO.MCBO.mcbo.tasks.task_base import TaskBase\u001b[39;00m\n\u001b[0;32m      7\u001b[0m \u001b[38;5;66;03m#from mcbo.tasks.task_base import TaskBase\u001b[39;00m\n\u001b[1;32m----> 8\u001b[0m \u001b[38;5;28;01mfrom\u001b[39;00m \u001b[38;5;21;01mHEBO\u001b[39;00m\u001b[38;5;21;01m.\u001b[39;00m\u001b[38;5;21;01mMCBO\u001b[39;00m\u001b[38;5;21;01m.\u001b[39;00m\u001b[38;5;21;01mmcbo\u001b[39;00m\u001b[38;5;21;01m.\u001b[39;00m\u001b[38;5;21;01mtasks\u001b[39;00m\u001b[38;5;21;01m.\u001b[39;00m\u001b[38;5;21;01mtask_base\u001b[39;00m \u001b[38;5;28;01mimport\u001b[39;00m TaskBase\n\u001b[0;32m     12\u001b[0m \u001b[38;5;28;01mclass\u001b[39;00m \u001b[38;5;21;01mCustomTask\u001b[39;00m(TaskBase):\n\u001b[0;32m     13\u001b[0m     \u001b[38;5;28;01mdef\u001b[39;00m \u001b[38;5;21m__init__\u001b[39m(\u001b[38;5;28mself\u001b[39m, layer_sizes, X_data, y_data):  \u001b[38;5;66;03m# pars\u001b[39;00m\n",
      "\u001b[1;31mModuleNotFoundError\u001b[0m: No module named 'HEBO'"
     ]
    }
   ],
   "source": [
    "from BO_methods import CustomTask\n",
    "from config_NN_methods import flex_NN, activation_functions, loss_functions\n",
    "from BO_pipeline import WeightAndBiasOptimizer\n",
    "from HEBO.MCBO.mcbo.optimizers.bo_builder import BoBuilder\n",
    "from sklearn.model_selection import train_test_split\n",
    "from sklearn.preprocessing import MinMaxScaler\n",
    "import pandas as pd\n",
    "\n",
    "\n",
    "# Function to preprocess the data\n",
    "def preprocess_data(df, preds_list, target_var):\n",
    "    # Drop rows with missing values in specific columns\n",
    "    df = df.dropna(subset=preds_list)\n",
    "    target = df[target_var] # store target variable\n",
    "    # Encode categorical variable 'Sex' into dummy variables\n",
    "    encode_cat_var = pd.get_dummies(df[preds_list[0]])\n",
    "    # Drop the original 'Sex' column and concatenate the encoded columns with the DataFrame\n",
    "    df = df[preds_list]\n",
    "    df = df.drop([preds_list[0]], axis=1)\n",
    "    X = pd.concat([encode_cat_var, df], axis=1)\n",
    "    # Scale the features using Min-Max scaling\n",
    "    X = pd.DataFrame(MinMaxScaler().fit_transform(X), columns=X.columns)\n",
    "    return X, target\n",
    "\n",
    "\n",
    "# Load and preprocess data\n",
    "df = pd.read_csv('train.csv')\n",
    "\n",
    "X, target_var = preprocess_data(df, ['Sex', 'Age', 'Fare'], 'Survived')\n",
    "y = target_var\n",
    "X_train, X_test, y_train, y_test = train_test_split(X, y, test_size=0.33, random_state=42)\n",
    "\n",
    "# Define neural network layer sizes\n",
    "layer_sizes = [X.shape[1], 8, 1]\n",
    "\n",
    "# Neural network objects and activation functions\n",
    "flex_NN_obj_train = flex_NN(layer_sizes, X_train, y_train)\n",
    "activation_obj = activation_functions()\n",
    "parameters = flex_NN_obj_train.label_parameters()\n",
    "hidden_activation = activation_obj.relu\n",
    "output_activation = activation_obj.sigmoid\n",
    "loss_fn_train = loss_functions(y_train).accuracy\n",
    "\n",
    "# CustomTask instantiation\n",
    "task = CustomTask(layer_sizes, X_train, y_train)\n",
    "searchspace = task.get_search_space()\n",
    "\n",
    "# Build optimizer\n",
    "optimizer_builder = BoBuilder(model_id='gp_rd', acq_opt_id='is', acq_func_id='ei', tr_id='basic')\n",
    "opt = optimizer_builder.build_bo(search_space=searchspace, n_init=100)\n",
    "weight_bias_optimizer = WeightAndBiasOptimizer(task=task, optimizer=opt)\n",
    "\n",
    "# Optimize weights and biases\n",
    "weights_and_biases_list, loss_coeff_list = weight_bias_optimizer.weights_biases_loss_coeff(layer_sizes, 50, X_train, y_train, loss_fn_train)\n",
    "best_weights_and_biases, best_loss_coeff = weight_bias_optimizer.find_best_weights_and_biases(weights_and_biases_list, loss_coeff_list, metric='max')\n",
    "\n",
    "# Evaluate on test data\n",
    "flex_NN_obj_test = flex_NN(layer_sizes, X_test, y_test)\n",
    "ML_model_preds = flex_NN_obj_test.forward_prop(hidden_activation, output_activation, best_weights_and_biases)\n",
    "loss_fn_test = loss_functions(y_test).accuracy(ML_model_preds)\n",
    "\n",
    "# Print results\n",
    "print(\"Best weights and biases:\", best_weights_and_biases)\n",
    "print(\"Training set accuracy:\", best_loss_coeff)\n",
    "print(\"Test set accuracy:\", loss_fn_test)"
   ]
  },
  {
   "cell_type": "code",
   "execution_count": 4,
   "id": "de02f935-23ce-4921-b641-1f6d98c052a4",
   "metadata": {},
   "outputs": [],
   "source": [
    "import pandas as pd"
   ]
  },
  {
   "cell_type": "code",
   "execution_count": 5,
   "id": "23a777cd-92bc-49b0-bfde-57cc5407d9f9",
   "metadata": {},
   "outputs": [],
   "source": [
    "import numpy as np"
   ]
  },
  {
   "cell_type": "code",
   "execution_count": null,
   "id": "1e3a62d7-fd61-47d9-aae4-5e9b031fe4ce",
   "metadata": {},
   "outputs": [],
   "source": []
  }
 ],
 "metadata": {
  "kernelspec": {
   "display_name": "Python (mcbo_env)",
   "language": "python",
   "name": "mcbo_env"
  },
  "language_info": {
   "codemirror_mode": {
    "name": "ipython",
    "version": 3
   },
   "file_extension": ".py",
   "mimetype": "text/x-python",
   "name": "python",
   "nbconvert_exporter": "python",
   "pygments_lexer": "ipython3",
   "version": "3.12.3"
  }
 },
 "nbformat": 4,
 "nbformat_minor": 5
}
